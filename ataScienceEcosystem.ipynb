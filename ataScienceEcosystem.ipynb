{
 "cells": [
  {
   "cell_type": "markdown",
   "id": "7c69d4cb-6af5-49e5-b40e-a3e597a0dd9f",
   "metadata": {
    "tags": []
   },
   "source": [
    "# Data Science Tools and Ecosystem"
   ]
  },
  {
   "cell_type": "markdown",
   "id": "309db888-a1e8-4fc2-8f2f-ee432c7ac057",
   "metadata": {},
   "source": [
    "# In this notebook, Data Science Tools and Ecosystem are summarized."
   ]
  },
  {
   "cell_type": "markdown",
   "id": "9fc8dae3-95f9-4da0-a69b-7af5ee7b5274",
   "metadata": {},
   "source": [
    "# Some of the popular languages that Data Scientists use are:\n",
    "1. Python\n",
    "2. R\n",
    "3. Julia"
   ]
  },
  {
   "cell_type": "markdown",
   "id": "2f860608-0197-4d63-9183-2b486a4d4039",
   "metadata": {},
   "source": [
    "# Some of the commonly used libraries used by Data Scientists include:\n",
    "1. Pandas\n",
    "2. Matplotlib\n",
    "3. Pytorch"
   ]
  },
  {
   "cell_type": "markdown",
   "id": "d60854a0-94ac-439a-89ee-01b590cda3e6",
   "metadata": {},
   "source": [
    "# Data Science Tools\n",
    "|Data Science Tools|Jupyter|RStudio|Spyder|"
   ]
  },
  {
   "cell_type": "markdown",
   "id": "a487d55f-15a1-457d-aaa4-19f2a3b441c3",
   "metadata": {},
   "source": [
    "### Below are a few examples of evaluating arithmetic expressions in Python"
   ]
  },
  {
   "cell_type": "code",
   "execution_count": 2,
   "id": "f15c713e-96df-4210-8099-1789591ce81f",
   "metadata": {
    "tags": []
   },
   "outputs": [
    {
     "data": {
      "text/plain": [
       "17"
      ]
     },
     "execution_count": 2,
     "metadata": {},
     "output_type": "execute_result"
    }
   ],
   "source": [
    "# This a simple arithmetic expression to mutiply then add integers\n",
    "(3*4)+5"
   ]
  },
  {
   "cell_type": "code",
   "execution_count": 3,
   "id": "71dc56d2-16db-4eb3-823b-a7958190e82a",
   "metadata": {
    "tags": []
   },
   "outputs": [
    {
     "data": {
      "text/plain": [
       "3.3333333333333335"
      ]
     },
     "execution_count": 3,
     "metadata": {},
     "output_type": "execute_result"
    }
   ],
   "source": [
    "# This will convert 200 minutes to hours by diving by 60\n",
    "200/60 "
   ]
  },
  {
   "cell_type": "markdown",
   "id": "3d1678d8-2901-4ab5-95c5-ec8dc2c7107e",
   "metadata": {},
   "source": [
    "# **Objectives:**\n",
    "- List of popular languages for Data Science\n",
    "- List of commonly used libraries in Data Science\n",
    "- List of Data Science tools"
   ]
  },
  {
   "cell_type": "markdown",
   "id": "08244148-600b-4367-877c-d551ac97b543",
   "metadata": {},
   "source": [
    "## Author\n",
    "Isam "
   ]
  },
  {
   "cell_type": "code",
   "execution_count": null,
   "id": "380a1159-22aa-422f-97d5-3850fa865fea",
   "metadata": {},
   "outputs": [],
   "source": []
  }
 ],
 "metadata": {
  "kernelspec": {
   "display_name": "Python",
   "language": "python",
   "name": "conda-env-python-py"
  },
  "language_info": {
   "codemirror_mode": {
    "name": "ipython",
    "version": 3
   },
   "file_extension": ".py",
   "mimetype": "text/x-python",
   "name": "python",
   "nbconvert_exporter": "python",
   "pygments_lexer": "ipython3",
   "version": "3.7.12"
  }
 },
 "nbformat": 4,
 "nbformat_minor": 5
}
